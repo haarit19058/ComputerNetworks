{
 "cells": [
  {
   "cell_type": "code",
   "execution_count": 10,
   "id": "6b0fc6f5",
   "metadata": {},
   "outputs": [
    {
     "name": "stdout",
     "output_type": "stream",
     "text": [
      "\\begin{tabular}{llrr}\n",
      "\\toprule\n",
      " & Host_Pair & Avg_RTT_ms & Bandwidth_Mbps \\\\\n",
      "\\midrule\n",
      "0 & h1-h2 & 18.220000 & 94.200000 \\\\\n",
      "1 & h1-h3 & 34.375000 & 92.800000 \\\\\n",
      "2 & h1-h4 & 54.431000 & 90.700000 \\\\\n",
      "3 & h1-dns & 16.313000 & 94.400000 \\\\\n",
      "4 & h2-h3 & 24.393000 & 93.800000 \\\\\n",
      "5 & h2-h4 & 44.817000 & 91.900000 \\\\\n",
      "6 & h2-dns & 6.643000 & 95.400000 \\\\\n",
      "7 & h3-h4 & 28.812000 & 93.300000 \\\\\n",
      "8 & h3-dns & 23.017000 & 94.000000 \\\\\n",
      "9 & h4-dns & 43.211000 & 92.000000 \\\\\n",
      "\\bottomrule\n",
      "\\end{tabular}\n",
      "\n"
     ]
    }
   ],
   "source": [
    "import pandas as pd\n",
    "\n",
    "# Read the CSV file\n",
    "df = pd.read_csv('network_metrics.csv')\n",
    "\n",
    "# Round all columns except the first one to 3 decimal places\n",
    "numeric_cols = df.columns[1:]  # skip the first column\n",
    "df[numeric_cols] = df[numeric_cols].apply(lambda x: x.round(3))\n",
    "\n",
    "# Export to LaTeX\n",
    "print(df.to_latex())"
   ]
  },
  {
   "cell_type": "code",
   "execution_count": null,
   "id": "6bfa5c92",
   "metadata": {},
   "outputs": [],
   "source": []
  },
  {
   "cell_type": "code",
   "execution_count": 13,
   "id": "61de7184",
   "metadata": {},
   "outputs": [],
   "source": [
    "dt = [{'avg_lookup_latency_sec': 0.13912769680023193,\n",
    " 'avg_throughput_bytes_per_sec': 1414.8319527394592,\n",
    " 'hostname': 'h1',\n",
    " 'num_failed_resolutions': 24,\n",
    " 'num_successful_queries': 76},\n",
    "\n",
    "{'avg_lookup_latency_sec': 0.14773,\n",
    " 'avg_throughput_bytes_per_sec': 1057.654188499683,\n",
    " 'hostname': 'h2',\n",
    " 'num_failed_resolutions': 28,\n",
    " 'num_successful_queries': 72},\n",
    "\n",
    "{'avg_lookup_latency_sec': 0.19203,\n",
    " 'avg_throughput_bytes_per_sec': 732.2054953249767,\n",
    " 'hostname': 'h3',\n",
    " 'num_failed_resolutions': 29,\n",
    " 'num_successful_queries': 71},\n",
    "{'avg_lookup_latency_sec': 0.19235711402893066,\n",
    " 'avg_throughput_bytes_per_sec': 639.344225341355,\n",
    " 'hostname': 'h4',\n",
    " 'num_failed_resolutions': 24,\n",
    " 'num_successful_queries': 76}]"
   ]
  },
  {
   "cell_type": "code",
   "execution_count": 17,
   "id": "4df31ed5",
   "metadata": {},
   "outputs": [],
   "source": [
    "import pandas as pd\n",
    "df = pd.DataFrame(dt)\n",
    "df[['avg_lookup_latency_sec', 'avg_throughput_bytes_per_sec']] = df[['avg_lookup_latency_sec', 'avg_throughput_bytes_per_sec']].round(3)\n",
    "df[['hostname']+list(df.columns[:2])+list(df.columns[3:])].to_latex(\"default_results.tex\", index=False)"
   ]
  },
  {
   "cell_type": "code",
   "execution_count": null,
   "id": "961d3d92",
   "metadata": {},
   "outputs": [],
   "source": []
  }
 ],
 "metadata": {
  "kernelspec": {
   "display_name": "pystt",
   "language": "python",
   "name": "python3"
  },
  "language_info": {
   "codemirror_mode": {
    "name": "ipython",
    "version": 3
   },
   "file_extension": ".py",
   "mimetype": "text/x-python",
   "name": "python",
   "nbconvert_exporter": "python",
   "pygments_lexer": "ipython3",
   "version": "3.12.11"
  }
 },
 "nbformat": 4,
 "nbformat_minor": 5
}
