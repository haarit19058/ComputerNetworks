{
 "cells": [
  {
   "cell_type": "code",
   "execution_count": null,
   "id": "3acba214",
   "metadata": {},
   "outputs": [],
   "source": [
    "# import socket\n",
    "\n",
    "# # Server configuration\n",
    "# SERVER_HOST = '127.0.0.1'\n",
    "# SERVER_PORT = 1235\n",
    "\n",
    "# sock = socket.socket(socket.AF_INET, socket.SOCK_DGRAM)\n",
    "\n",
    "# while True:\n",
    "#     domain = input(\"Enter domain name: \").strip()\n",
    "#     if not domain:\n",
    "#         break\n",
    "\n",
    "#     sock.sendto(domain.encode(), (SERVER_HOST, SERVER_PORT))\n",
    "#     data, _ = sock.recvfrom(1024)\n",
    "#     print(f\"DNS Response: {data.decode()}\")\n",
    "\n",
    "\n",
    "\n",
    "import socket\n",
    "from scapy.all import rdpcap, DNS\n",
    "from datetime import datetime\n",
    "\n",
    "SERVER_HOST = '127.0.0.1'\n",
    "SERVER_PORT = 5553\n",
    "\n",
    "sock = socket.socket(socket.AF_INET, socket.SOCK_DGRAM)\n",
    "\n",
    "# Read PCAP and filter DNS queries\n",
    "packets = rdpcap(\"7.pcap\") ###\n",
    "\n",
    "dns_packets = [pkt for pkt in packets if pkt.haslayer(DNS)]\n"
   ]
  },
  {
   "cell_type": "code",
   "execution_count": null,
   "id": "ca6d440e",
   "metadata": {},
   "outputs": [],
   "source": [
    "\n",
    "for idx, pkt in enumerate(dns_packets):\n",
    "    dns_payload = bytes(pkt[DNS])\n",
    "\n",
    "    # Create custom header HHMMSS + ID (2 digits)\n",
    "    now = datetime.now()\n",
    "    header = f\"{now.hour:02}{now.minute:02}{now.second:02}{idx:02}\".encode()  # 8 bytes\n",
    "    print(header)\n",
    "\n",
    "    # Prepend custom header\n",
    "    message = header + dns_payload\n",
    "\n",
    "    # Send to server\n",
    "    sock.sendto(message, (SERVER_HOST, SERVER_PORT))\n",
    "    print(f\"Sent DNS query {idx:02} with header {header.decode()}\")\n"
   ]
  },
  {
   "cell_type": "code",
   "execution_count": null,
   "id": "ddd2d2a3",
   "metadata": {},
   "outputs": [],
   "source": []
  }
 ],
 "metadata": {
  "kernelspec": {
   "display_name": "pystt",
   "language": "python",
   "name": "python3"
  },
  "language_info": {
   "codemirror_mode": {
    "name": "ipython",
    "version": 3
   },
   "file_extension": ".py",
   "mimetype": "text/x-python",
   "name": "python",
   "nbconvert_exporter": "python",
   "pygments_lexer": "ipython3",
   "version": "3.12.11"
  }
 },
 "nbformat": 4,
 "nbformat_minor": 5
}
